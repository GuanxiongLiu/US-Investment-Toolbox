{
  "nbformat": 4,
  "nbformat_minor": 0,
  "metadata": {
    "colab": {
      "name": "yfinance_CallPutFilter.ipynb",
      "provenance": [],
      "collapsed_sections": [],
      "include_colab_link": true
    },
    "kernelspec": {
      "display_name": "Python 3",
      "name": "python3"
    },
    "language_info": {
      "name": "python"
    }
  },
  "cells": [
    {
      "cell_type": "markdown",
      "metadata": {
        "id": "view-in-github",
        "colab_type": "text"
      },
      "source": [
        "<a href=\"https://colab.research.google.com/github/GuanxiongLiu/US-Investment-Toolbox/blob/CallPutFilter/yfinance_CallPutFilter.ipynb\" target=\"_parent\"><img src=\"https://colab.research.google.com/assets/colab-badge.svg\" alt=\"Open In Colab\"/></a>"
      ]
    },
    {
      "cell_type": "code",
      "metadata": {
        "colab": {
          "base_uri": "https://localhost:8080/"
        },
        "id": "qvJHX4Txg6Nv",
        "outputId": "d351998c-ae68-4c4a-c372-12fc96432db0"
      },
      "source": [
        "from google.colab import drive\n",
        "drive.mount('/content/drive')"
      ],
      "execution_count": 1,
      "outputs": [
        {
          "output_type": "stream",
          "text": [
            "Drive already mounted at /content/drive; to attempt to forcibly remount, call drive.mount(\"/content/drive\", force_remount=True).\n"
          ],
          "name": "stdout"
        }
      ]
    },
    {
      "cell_type": "code",
      "metadata": {
        "colab": {
          "base_uri": "https://localhost:8080/"
        },
        "id": "0xP-VszG44w-",
        "outputId": "7408f8c9-1ff7-4145-e85c-e7ef4387f19d"
      },
      "source": [
        "!pip install yfinance"
      ],
      "execution_count": 2,
      "outputs": [
        {
          "output_type": "stream",
          "text": [
            "Requirement already satisfied: yfinance in /usr/local/lib/python3.7/dist-packages (0.1.59)\n",
            "Requirement already satisfied: pandas>=0.24 in /usr/local/lib/python3.7/dist-packages (from yfinance) (1.1.5)\n",
            "Requirement already satisfied: numpy>=1.15 in /usr/local/lib/python3.7/dist-packages (from yfinance) (1.19.5)\n",
            "Requirement already satisfied: multitasking>=0.0.7 in /usr/local/lib/python3.7/dist-packages (from yfinance) (0.0.9)\n",
            "Requirement already satisfied: requests>=2.20 in /usr/local/lib/python3.7/dist-packages (from yfinance) (2.23.0)\n",
            "Requirement already satisfied: lxml>=4.5.1 in /usr/local/lib/python3.7/dist-packages (from yfinance) (4.6.3)\n",
            "Requirement already satisfied: pytz>=2017.2 in /usr/local/lib/python3.7/dist-packages (from pandas>=0.24->yfinance) (2018.9)\n",
            "Requirement already satisfied: python-dateutil>=2.7.3 in /usr/local/lib/python3.7/dist-packages (from pandas>=0.24->yfinance) (2.8.1)\n",
            "Requirement already satisfied: idna<3,>=2.5 in /usr/local/lib/python3.7/dist-packages (from requests>=2.20->yfinance) (2.10)\n",
            "Requirement already satisfied: certifi>=2017.4.17 in /usr/local/lib/python3.7/dist-packages (from requests>=2.20->yfinance) (2020.12.5)\n",
            "Requirement already satisfied: chardet<4,>=3.0.2 in /usr/local/lib/python3.7/dist-packages (from requests>=2.20->yfinance) (3.0.4)\n",
            "Requirement already satisfied: urllib3!=1.25.0,!=1.25.1,<1.26,>=1.21.1 in /usr/local/lib/python3.7/dist-packages (from requests>=2.20->yfinance) (1.24.3)\n",
            "Requirement already satisfied: six>=1.5 in /usr/local/lib/python3.7/dist-packages (from python-dateutil>=2.7.3->pandas>=0.24->yfinance) (1.15.0)\n"
          ],
          "name": "stdout"
        }
      ]
    },
    {
      "cell_type": "code",
      "metadata": {
        "id": "MKsLA0jjFfUM"
      },
      "source": [
        "import yfinance as yf"
      ],
      "execution_count": 3,
      "outputs": []
    },
    {
      "cell_type": "markdown",
      "metadata": {
        "id": "_wrmxd6IjQVR"
      },
      "source": [
        "# Preparation"
      ]
    },
    {
      "cell_type": "code",
      "metadata": {
        "colab": {
          "base_uri": "https://localhost:8080/",
          "height": 111
        },
        "id": "FUy5kpR85OTp",
        "outputId": "97e7b7ca-12b9-42a7-af68-91ab2eadaa3a"
      },
      "source": [
        "import pandas as pd\n",
        "\n",
        "basic_stocks = pd.read_csv(\n",
        "    '<path to demo data or your own data>'\n",
        ")\n",
        "basic_stocks.head()"
      ],
      "execution_count": 4,
      "outputs": [
        {
          "output_type": "execute_result",
          "data": {
            "text/html": [
              "<div>\n",
              "<style scoped>\n",
              "    .dataframe tbody tr th:only-of-type {\n",
              "        vertical-align: middle;\n",
              "    }\n",
              "\n",
              "    .dataframe tbody tr th {\n",
              "        vertical-align: top;\n",
              "    }\n",
              "\n",
              "    .dataframe thead th {\n",
              "        text-align: right;\n",
              "    }\n",
              "</style>\n",
              "<table border=\"1\" class=\"dataframe\">\n",
              "  <thead>\n",
              "    <tr style=\"text-align: right;\">\n",
              "      <th></th>\n",
              "      <th>Ticker</th>\n",
              "      <th>BP_1_date</th>\n",
              "      <th>BP_2_date</th>\n",
              "      <th>Vertical_Dis_Per_Channel</th>\n",
              "      <th>Channel_Price</th>\n",
              "    </tr>\n",
              "  </thead>\n",
              "  <tbody>\n",
              "    <tr>\n",
              "      <th>0</th>\n",
              "      <td>SPY</td>\n",
              "      <td>2020-03-23</td>\n",
              "      <td>2021-03-04</td>\n",
              "      <td>4.405</td>\n",
              "      <td>Low</td>\n",
              "    </tr>\n",
              "    <tr>\n",
              "      <th>1</th>\n",
              "      <td>QQQ</td>\n",
              "      <td>2020-03-24</td>\n",
              "      <td>2021-05-19</td>\n",
              "      <td>5.457</td>\n",
              "      <td>Low</td>\n",
              "    </tr>\n",
              "  </tbody>\n",
              "</table>\n",
              "</div>"
            ],
            "text/plain": [
              "  Ticker   BP_1_date   BP_2_date  Vertical_Dis_Per_Channel Channel_Price\n",
              "0    SPY  2020-03-23  2021-03-04                     4.405           Low\n",
              "1    QQQ  2020-03-24  2021-05-19                     5.457           Low"
            ]
          },
          "metadata": {
            "tags": []
          },
          "execution_count": 4
        }
      ]
    },
    {
      "cell_type": "code",
      "metadata": {
        "colab": {
          "base_uri": "https://localhost:8080/"
        },
        "id": "sFnoFQgeAjSs",
        "outputId": "93451b21-79fe-40f8-9109-54de03e493d7"
      },
      "source": [
        "history_daily = yf.download(# or pdr.get_data_yahoo(...\n",
        "                            # tickers list or string as well\n",
        "                            tickers = \" \".join(basic_stocks['Ticker'].to_numpy()),\n",
        "\n",
        "                            # use \"period\" instead of start/end\n",
        "                            # valid periods: 1d,5d,1mo,3mo,6mo,1y,2y,5y,10y,ytd,max\n",
        "                            # (optional, default is '1mo')\n",
        "                            period = \"2y\",\n",
        "\n",
        "                            # fetch data by interval (including intraday if period < 60 days)\n",
        "                            # valid intervals: 1m,2m,5m,15m,30m,60m,90m,1h,1d,5d,1wk,1mo,3mo\n",
        "                            # (optional, default is '1d')\n",
        "                            interval = \"1d\",\n",
        "\n",
        "                            # group by ticker (to access via data['SPY'])\n",
        "                            # (optional, default is 'column')\n",
        "                            group_by = 'ticker',\n",
        "\n",
        "                            # adjust all OHLC automatically\n",
        "                            # (optional, default is False)\n",
        "                            auto_adjust = True,\n",
        "\n",
        "                            # download pre/post regular market hours data\n",
        "                            # (optional, default is False)\n",
        "                            prepost = True,\n",
        "\n",
        "                            # use threads for mass downloading? (True/False/Integer)\n",
        "                            # (optional, default is True)\n",
        "                            threads = True,\n",
        "\n",
        "                            # proxy URL scheme use use when downloading?\n",
        "                            # (optional, default is None)\n",
        "                            proxy = None\n",
        "                        )"
      ],
      "execution_count": 5,
      "outputs": [
        {
          "output_type": "stream",
          "text": [
            "[*********************100%***********************]  2 of 2 completed\n"
          ],
          "name": "stdout"
        }
      ]
    },
    {
      "cell_type": "code",
      "metadata": {
        "id": "vN5MgOniD8tu"
      },
      "source": [
        "dates = [str(d)[0:10] for d in history_daily.index.to_numpy()]      # get all dates and ignore the time\n",
        "today, dates = dates[-1], dates[:-1]                                # isolate today's date\n",
        "history_daily = history_daily.drop(index=history_daily.index[-1])   # drop today's data from historical data"
      ],
      "execution_count": 6,
      "outputs": []
    },
    {
      "cell_type": "code",
      "metadata": {
        "colab": {
          "base_uri": "https://localhost:8080/",
          "height": 266
        },
        "id": "nAwbXkrVhhVy",
        "outputId": "009d8658-7753-4446-acf7-fec859ce4900"
      },
      "source": [
        "history_daily.tail()"
      ],
      "execution_count": 7,
      "outputs": [
        {
          "output_type": "execute_result",
          "data": {
            "text/html": [
              "<div>\n",
              "<style scoped>\n",
              "    .dataframe tbody tr th:only-of-type {\n",
              "        vertical-align: middle;\n",
              "    }\n",
              "\n",
              "    .dataframe tbody tr th {\n",
              "        vertical-align: top;\n",
              "    }\n",
              "\n",
              "    .dataframe thead tr th {\n",
              "        text-align: left;\n",
              "    }\n",
              "\n",
              "    .dataframe thead tr:last-of-type th {\n",
              "        text-align: right;\n",
              "    }\n",
              "</style>\n",
              "<table border=\"1\" class=\"dataframe\">\n",
              "  <thead>\n",
              "    <tr>\n",
              "      <th></th>\n",
              "      <th colspan=\"5\" halign=\"left\">SPY</th>\n",
              "      <th colspan=\"5\" halign=\"left\">QQQ</th>\n",
              "    </tr>\n",
              "    <tr>\n",
              "      <th></th>\n",
              "      <th>Open</th>\n",
              "      <th>High</th>\n",
              "      <th>Low</th>\n",
              "      <th>Close</th>\n",
              "      <th>Volume</th>\n",
              "      <th>Open</th>\n",
              "      <th>High</th>\n",
              "      <th>Low</th>\n",
              "      <th>Close</th>\n",
              "      <th>Volume</th>\n",
              "    </tr>\n",
              "    <tr>\n",
              "      <th>Date</th>\n",
              "      <th></th>\n",
              "      <th></th>\n",
              "      <th></th>\n",
              "      <th></th>\n",
              "      <th></th>\n",
              "      <th></th>\n",
              "      <th></th>\n",
              "      <th></th>\n",
              "      <th></th>\n",
              "      <th></th>\n",
              "    </tr>\n",
              "  </thead>\n",
              "  <tbody>\n",
              "    <tr>\n",
              "      <th>2021-05-20</th>\n",
              "      <td>411.799988</td>\n",
              "      <td>416.630005</td>\n",
              "      <td>411.670013</td>\n",
              "      <td>415.279999</td>\n",
              "      <td>78022200</td>\n",
              "      <td>324.119995</td>\n",
              "      <td>329.709991</td>\n",
              "      <td>323.890015</td>\n",
              "      <td>328.829987</td>\n",
              "      <td>46466100</td>\n",
              "    </tr>\n",
              "    <tr>\n",
              "      <th>2021-05-21</th>\n",
              "      <td>416.869995</td>\n",
              "      <td>418.200012</td>\n",
              "      <td>414.450012</td>\n",
              "      <td>414.940002</td>\n",
              "      <td>76519100</td>\n",
              "      <td>330.429993</td>\n",
              "      <td>330.859985</td>\n",
              "      <td>326.640015</td>\n",
              "      <td>327.010010</td>\n",
              "      <td>50284700</td>\n",
              "    </tr>\n",
              "    <tr>\n",
              "      <th>2021-05-24</th>\n",
              "      <td>417.339996</td>\n",
              "      <td>420.320007</td>\n",
              "      <td>417.079987</td>\n",
              "      <td>419.170013</td>\n",
              "      <td>51376700</td>\n",
              "      <td>329.369995</td>\n",
              "      <td>333.670013</td>\n",
              "      <td>326.899994</td>\n",
              "      <td>332.510010</td>\n",
              "      <td>32475800</td>\n",
              "    </tr>\n",
              "    <tr>\n",
              "      <th>2021-05-25</th>\n",
              "      <td>420.329987</td>\n",
              "      <td>420.709991</td>\n",
              "      <td>417.619995</td>\n",
              "      <td>418.239990</td>\n",
              "      <td>57451400</td>\n",
              "      <td>334.070007</td>\n",
              "      <td>334.809998</td>\n",
              "      <td>331.760010</td>\n",
              "      <td>332.970001</td>\n",
              "      <td>31280300</td>\n",
              "    </tr>\n",
              "    <tr>\n",
              "      <th>2021-05-26</th>\n",
              "      <td>418.869995</td>\n",
              "      <td>419.609985</td>\n",
              "      <td>417.760010</td>\n",
              "      <td>419.070007</td>\n",
              "      <td>42997900</td>\n",
              "      <td>333.660004</td>\n",
              "      <td>334.609985</td>\n",
              "      <td>332.950012</td>\n",
              "      <td>334.130005</td>\n",
              "      <td>25333900</td>\n",
              "    </tr>\n",
              "  </tbody>\n",
              "</table>\n",
              "</div>"
            ],
            "text/plain": [
              "                   SPY              ...         QQQ          \n",
              "                  Open        High  ...       Close    Volume\n",
              "Date                                ...                      \n",
              "2021-05-20  411.799988  416.630005  ...  328.829987  46466100\n",
              "2021-05-21  416.869995  418.200012  ...  327.010010  50284700\n",
              "2021-05-24  417.339996  420.320007  ...  332.510010  32475800\n",
              "2021-05-25  420.329987  420.709991  ...  332.970001  31280300\n",
              "2021-05-26  418.869995  419.609985  ...  334.130005  25333900\n",
              "\n",
              "[5 rows x 10 columns]"
            ]
          },
          "metadata": {
            "tags": []
          },
          "execution_count": 7
        }
      ]
    },
    {
      "cell_type": "markdown",
      "metadata": {
        "id": "G-51Z-EVjT7x"
      },
      "source": [
        "# Filtering"
      ]
    },
    {
      "cell_type": "code",
      "metadata": {
        "id": "NDxQ99RzD2mA"
      },
      "source": [
        "###\n",
        "# These two parameters define the interest area (call and put)\n",
        "# E.g., call_interest_thres = 0.1 defines that call interest zone is an area that the current\n",
        "# price is higher than any support within 10%\n",
        "# E.g., put_interest_thres = 0.9 defines that put interest zone is an area that the current\n",
        "# price is lower than any compression within 10%\n",
        "###\n",
        "call_interest_thres, put_interest_thres = 0.3, 0.7"
      ],
      "execution_count": 8,
      "outputs": []
    },
    {
      "cell_type": "code",
      "metadata": {
        "id": "pZ0t6H1VjWaj"
      },
      "source": [
        "call_direction, put_direction = [], []\n",
        "for index in range(basic_stocks.shape[0]):\n",
        "    # get basic info of a specific ticker\n",
        "    row = basic_stocks.iloc[index]\n",
        "    # calculate reference point's price\n",
        "        # index important dates\n",
        "    BP_1_loc, BP_2_loc, TD_loc = dates.index(row['BP_1_date']), dates.index(row['BP_2_date']), history_daily.shape[0]+1     \n",
        "        # calculate price diff bt two base points        \n",
        "    BP_price_diff = (history_daily.iloc[BP_2_loc][(row['Ticker'], row['Channel_Price'])] - history_daily.iloc[BP_1_loc][(row['Ticker'], row['Channel_Price'])])   \n",
        "        # calculate price diff bt reference point and the second base point (simple math)\n",
        "    RF_price_diff = (TD_loc - BP_1_loc) / (BP_2_loc - BP_1_loc) * BP_price_diff\n",
        "        # finalize the price of reference point\n",
        "    RF_price = history_daily.iloc[BP_1_loc][(row['Ticker'], row['Channel_Price'])] + RF_price_diff\n",
        "    # get current price of the target ticker\n",
        "    ticker = yf.Ticker(row['Ticker'])\n",
        "    price = ticker.history(period='1d', interval='1d').to_numpy()[0,3]\n",
        "    # calculate the ratio for final determination\n",
        "    ratio = (abs(price - RF_price) / row['Vertical_Dis_Per_Channel']) - (abs(price - RF_price) // row['Vertical_Dis_Per_Channel'])\n",
        "    ###\n",
        "    # assign the ticker to corresponding group based on the following rules\n",
        "    # (0,call_interest_thres]  --> current price is above a support, [put_interest_thres,1) --> current price is under a pressure)\n",
        "    ###\n",
        "    if ratio <= call_interest_thres:\n",
        "        call_direction.append(row['Ticker'])\n",
        "    elif ratio >= put_interest_thres:\n",
        "        put_direction.append(row['Ticker'])\n",
        "    else:\n",
        "        pass"
      ],
      "execution_count": 9,
      "outputs": []
    },
    {
      "cell_type": "code",
      "metadata": {
        "colab": {
          "base_uri": "https://localhost:8080/"
        },
        "id": "wixhJIopABHh",
        "outputId": "d8be0663-2625-4406-b374-48556247f080"
      },
      "source": [
        "print('The CALL direction Tickers are:')\n",
        "print(call_direction)\n",
        "print('The PUT direction Tickers are:')\n",
        "print(put_direction)"
      ],
      "execution_count": 10,
      "outputs": [
        {
          "output_type": "stream",
          "text": [
            "The CALL direction Tickers are:\n",
            "['SPY']\n",
            "The PUT direction Tickers are:\n",
            "[]\n"
          ],
          "name": "stdout"
        }
      ]
    },
    {
      "cell_type": "code",
      "metadata": {
        "id": "Yp0ri19NMmcj"
      },
      "source": [
        ""
      ],
      "execution_count": 10,
      "outputs": []
    }
  ]
}