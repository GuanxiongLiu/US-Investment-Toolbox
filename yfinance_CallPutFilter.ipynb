{
  "nbformat": 4,
  "nbformat_minor": 0,
  "metadata": {
    "colab": {
      "name": "yfinance_CallPutFilter.ipynb",
      "provenance": [],
      "collapsed_sections": [],
      "include_colab_link": true
    },
    "kernelspec": {
      "display_name": "Python 3",
      "name": "python3"
    },
    "language_info": {
      "name": "python"
    }
  },
  "cells": [
    {
      "cell_type": "markdown",
      "metadata": {
        "id": "view-in-github",
        "colab_type": "text"
      },
      "source": [
        "<a href=\"https://colab.research.google.com/github/GuanxiongLiu/US-Investment-Toolbox/blob/CallPutFilter/yfinance_CallPutFilter.ipynb\" target=\"_parent\"><img src=\"https://colab.research.google.com/assets/colab-badge.svg\" alt=\"Open In Colab\"/></a>"
      ]
    },
    {
      "cell_type": "code",
      "metadata": {
        "colab": {
          "base_uri": "https://localhost:8080/"
        },
        "id": "qvJHX4Txg6Nv",
        "outputId": "2d8e9779-8ae7-4b97-aca7-c37cc47e61fc"
      },
      "source": [
        "from google.colab import drive\n",
        "drive.mount('/content/drive')"
      ],
      "execution_count": 1,
      "outputs": [
        {
          "output_type": "stream",
          "text": [
            "Mounted at /content/drive\n"
          ],
          "name": "stdout"
        }
      ]
    },
    {
      "cell_type": "code",
      "metadata": {
        "colab": {
          "base_uri": "https://localhost:8080/"
        },
        "id": "0xP-VszG44w-",
        "outputId": "413d9c99-17fd-4d56-ab2d-239d636f5614"
      },
      "source": [
        "!pip install yfinance"
      ],
      "execution_count": 2,
      "outputs": [
        {
          "output_type": "stream",
          "text": [
            "Collecting yfinance\n",
            "  Downloading https://files.pythonhosted.org/packages/a7/ee/315752b9ef281ba83c62aa7ec2e2074f85223da6e7e74efb4d3e11c0f510/yfinance-0.1.59.tar.gz\n",
            "Requirement already satisfied: pandas>=0.24 in /usr/local/lib/python3.7/dist-packages (from yfinance) (1.1.5)\n",
            "Requirement already satisfied: numpy>=1.15 in /usr/local/lib/python3.7/dist-packages (from yfinance) (1.19.5)\n",
            "Requirement already satisfied: requests>=2.20 in /usr/local/lib/python3.7/dist-packages (from yfinance) (2.23.0)\n",
            "Requirement already satisfied: multitasking>=0.0.7 in /usr/local/lib/python3.7/dist-packages (from yfinance) (0.0.9)\n",
            "Collecting lxml>=4.5.1\n",
            "\u001b[?25l  Downloading https://files.pythonhosted.org/packages/30/c0/d0526314971fc661b083ab135747dc68446a3022686da8c16d25fcf6ef07/lxml-4.6.3-cp37-cp37m-manylinux2014_x86_64.whl (6.3MB)\n",
            "\u001b[K     |████████████████████████████████| 6.3MB 9.7MB/s \n",
            "\u001b[?25hRequirement already satisfied: python-dateutil>=2.7.3 in /usr/local/lib/python3.7/dist-packages (from pandas>=0.24->yfinance) (2.8.1)\n",
            "Requirement already satisfied: pytz>=2017.2 in /usr/local/lib/python3.7/dist-packages (from pandas>=0.24->yfinance) (2018.9)\n",
            "Requirement already satisfied: certifi>=2017.4.17 in /usr/local/lib/python3.7/dist-packages (from requests>=2.20->yfinance) (2020.12.5)\n",
            "Requirement already satisfied: chardet<4,>=3.0.2 in /usr/local/lib/python3.7/dist-packages (from requests>=2.20->yfinance) (3.0.4)\n",
            "Requirement already satisfied: urllib3!=1.25.0,!=1.25.1,<1.26,>=1.21.1 in /usr/local/lib/python3.7/dist-packages (from requests>=2.20->yfinance) (1.24.3)\n",
            "Requirement already satisfied: idna<3,>=2.5 in /usr/local/lib/python3.7/dist-packages (from requests>=2.20->yfinance) (2.10)\n",
            "Requirement already satisfied: six>=1.5 in /usr/local/lib/python3.7/dist-packages (from python-dateutil>=2.7.3->pandas>=0.24->yfinance) (1.15.0)\n",
            "Building wheels for collected packages: yfinance\n",
            "  Building wheel for yfinance (setup.py) ... \u001b[?25l\u001b[?25hdone\n",
            "  Created wheel for yfinance: filename=yfinance-0.1.59-py2.py3-none-any.whl size=23442 sha256=947a02f01622e7d3f7b98320ed7c930af5b56d7dd00464047bb4f03ae4b48590\n",
            "  Stored in directory: /root/.cache/pip/wheels/f8/2a/0f/4b5a86e1d52e451757eb6bc17fd899629f0925c777741b6d04\n",
            "Successfully built yfinance\n",
            "Installing collected packages: lxml, yfinance\n",
            "  Found existing installation: lxml 4.2.6\n",
            "    Uninstalling lxml-4.2.6:\n",
            "      Successfully uninstalled lxml-4.2.6\n",
            "Successfully installed lxml-4.6.3 yfinance-0.1.59\n"
          ],
          "name": "stdout"
        }
      ]
    },
    {
      "cell_type": "code",
      "metadata": {
        "id": "MKsLA0jjFfUM"
      },
      "source": [
        "import yfinance as yf"
      ],
      "execution_count": 3,
      "outputs": []
    },
    {
      "cell_type": "markdown",
      "metadata": {
        "id": "_wrmxd6IjQVR"
      },
      "source": [
        "# Preparation"
      ]
    },
    {
      "cell_type": "code",
      "metadata": {
        "colab": {
          "base_uri": "https://localhost:8080/",
          "height": 111
        },
        "id": "FUy5kpR85OTp",
        "outputId": "f2a6072a-3077-4a92-b425-1b668f77eead"
      },
      "source": [
        "import pandas as pd\n",
        "\n",
        "basic_stocks = pd.read_csv(\n",
        "    '<path to data>'\n",
        ")\n",
        "basic_stocks.head()"
      ],
      "execution_count": 4,
      "outputs": [
        {
          "output_type": "execute_result",
          "data": {
            "text/html": [
              "<div>\n",
              "<style scoped>\n",
              "    .dataframe tbody tr th:only-of-type {\n",
              "        vertical-align: middle;\n",
              "    }\n",
              "\n",
              "    .dataframe tbody tr th {\n",
              "        vertical-align: top;\n",
              "    }\n",
              "\n",
              "    .dataframe thead th {\n",
              "        text-align: right;\n",
              "    }\n",
              "</style>\n",
              "<table border=\"1\" class=\"dataframe\">\n",
              "  <thead>\n",
              "    <tr style=\"text-align: right;\">\n",
              "      <th></th>\n",
              "      <th>Ticker</th>\n",
              "      <th>BP_1_date</th>\n",
              "      <th>BP_2_date</th>\n",
              "      <th>Vertical_Dis_Per_Channel</th>\n",
              "    </tr>\n",
              "  </thead>\n",
              "  <tbody>\n",
              "    <tr>\n",
              "      <th>0</th>\n",
              "      <td>SPY</td>\n",
              "      <td>2020-03-23</td>\n",
              "      <td>2021-03-04</td>\n",
              "      <td>4.405</td>\n",
              "    </tr>\n",
              "    <tr>\n",
              "      <th>1</th>\n",
              "      <td>QQQ</td>\n",
              "      <td>2020-03-24</td>\n",
              "      <td>2021-05-19</td>\n",
              "      <td>5.457</td>\n",
              "    </tr>\n",
              "  </tbody>\n",
              "</table>\n",
              "</div>"
            ],
            "text/plain": [
              "  Ticker   BP_1_date   BP_2_date  Vertical_Dis_Per_Channel\n",
              "0    SPY  2020-03-23  2021-03-04                     4.405\n",
              "1    QQQ  2020-03-24  2021-05-19                     5.457"
            ]
          },
          "metadata": {
            "tags": []
          },
          "execution_count": 4
        }
      ]
    },
    {
      "cell_type": "code",
      "metadata": {
        "colab": {
          "base_uri": "https://localhost:8080/"
        },
        "id": "sFnoFQgeAjSs",
        "outputId": "b8e95c42-54f7-41ca-dc1c-77a58dee2b04"
      },
      "source": [
        "history_daily = yf.download(# or pdr.get_data_yahoo(...\n",
        "                            # tickers list or string as well\n",
        "                            tickers = \" \".join(basic_stocks['Ticker'].to_numpy()),\n",
        "\n",
        "                            # use \"period\" instead of start/end\n",
        "                            # valid periods: 1d,5d,1mo,3mo,6mo,1y,2y,5y,10y,ytd,max\n",
        "                            # (optional, default is '1mo')\n",
        "                            period = \"2y\",\n",
        "\n",
        "                            # fetch data by interval (including intraday if period < 60 days)\n",
        "                            # valid intervals: 1m,2m,5m,15m,30m,60m,90m,1h,1d,5d,1wk,1mo,3mo\n",
        "                            # (optional, default is '1d')\n",
        "                            interval = \"1d\",\n",
        "\n",
        "                            # group by ticker (to access via data['SPY'])\n",
        "                            # (optional, default is 'column')\n",
        "                            group_by = 'ticker',\n",
        "\n",
        "                            # adjust all OHLC automatically\n",
        "                            # (optional, default is False)\n",
        "                            auto_adjust = True,\n",
        "\n",
        "                            # download pre/post regular market hours data\n",
        "                            # (optional, default is False)\n",
        "                            prepost = True,\n",
        "\n",
        "                            # use threads for mass downloading? (True/False/Integer)\n",
        "                            # (optional, default is True)\n",
        "                            threads = True,\n",
        "\n",
        "                            # proxy URL scheme use use when downloading?\n",
        "                            # (optional, default is None)\n",
        "                            proxy = None\n",
        "                        )"
      ],
      "execution_count": 5,
      "outputs": [
        {
          "output_type": "stream",
          "text": [
            "[*********************100%***********************]  2 of 2 completed\n"
          ],
          "name": "stdout"
        }
      ]
    },
    {
      "cell_type": "code",
      "metadata": {
        "id": "vN5MgOniD8tu"
      },
      "source": [
        "dates = [str(d)[0:10] for d in history_daily.index.to_numpy()]      # get all dates and ignore the time\n",
        "today, dates = dates[-1], dates[:-1]                                # isolate today's date\n",
        "history_daily = history_daily.drop(index=history_daily.index[-1])   # drop today's data from historical data"
      ],
      "execution_count": 6,
      "outputs": []
    },
    {
      "cell_type": "code",
      "metadata": {
        "colab": {
          "base_uri": "https://localhost:8080/",
          "height": 266
        },
        "id": "nAwbXkrVhhVy",
        "outputId": "74756667-25a1-4e62-8c26-39d3d48d21b5"
      },
      "source": [
        "history_daily.tail()"
      ],
      "execution_count": 7,
      "outputs": [
        {
          "output_type": "execute_result",
          "data": {
            "text/html": [
              "<div>\n",
              "<style scoped>\n",
              "    .dataframe tbody tr th:only-of-type {\n",
              "        vertical-align: middle;\n",
              "    }\n",
              "\n",
              "    .dataframe tbody tr th {\n",
              "        vertical-align: top;\n",
              "    }\n",
              "\n",
              "    .dataframe thead tr th {\n",
              "        text-align: left;\n",
              "    }\n",
              "\n",
              "    .dataframe thead tr:last-of-type th {\n",
              "        text-align: right;\n",
              "    }\n",
              "</style>\n",
              "<table border=\"1\" class=\"dataframe\">\n",
              "  <thead>\n",
              "    <tr>\n",
              "      <th></th>\n",
              "      <th colspan=\"5\" halign=\"left\">SPY</th>\n",
              "      <th colspan=\"5\" halign=\"left\">QQQ</th>\n",
              "    </tr>\n",
              "    <tr>\n",
              "      <th></th>\n",
              "      <th>Open</th>\n",
              "      <th>High</th>\n",
              "      <th>Low</th>\n",
              "      <th>Close</th>\n",
              "      <th>Volume</th>\n",
              "      <th>Open</th>\n",
              "      <th>High</th>\n",
              "      <th>Low</th>\n",
              "      <th>Close</th>\n",
              "      <th>Volume</th>\n",
              "    </tr>\n",
              "    <tr>\n",
              "      <th>Date</th>\n",
              "      <th></th>\n",
              "      <th></th>\n",
              "      <th></th>\n",
              "      <th></th>\n",
              "      <th></th>\n",
              "      <th></th>\n",
              "      <th></th>\n",
              "      <th></th>\n",
              "      <th></th>\n",
              "      <th></th>\n",
              "    </tr>\n",
              "  </thead>\n",
              "  <tbody>\n",
              "    <tr>\n",
              "      <th>2021-05-21</th>\n",
              "      <td>416.869995</td>\n",
              "      <td>418.200012</td>\n",
              "      <td>414.450012</td>\n",
              "      <td>414.940002</td>\n",
              "      <td>76519100</td>\n",
              "      <td>330.429993</td>\n",
              "      <td>330.859985</td>\n",
              "      <td>326.640015</td>\n",
              "      <td>327.010010</td>\n",
              "      <td>50284700</td>\n",
              "    </tr>\n",
              "    <tr>\n",
              "      <th>2021-05-24</th>\n",
              "      <td>417.339996</td>\n",
              "      <td>420.320007</td>\n",
              "      <td>417.079987</td>\n",
              "      <td>419.170013</td>\n",
              "      <td>51376700</td>\n",
              "      <td>329.369995</td>\n",
              "      <td>333.670013</td>\n",
              "      <td>326.899994</td>\n",
              "      <td>332.510010</td>\n",
              "      <td>32475800</td>\n",
              "    </tr>\n",
              "    <tr>\n",
              "      <th>2021-05-25</th>\n",
              "      <td>420.329987</td>\n",
              "      <td>420.709991</td>\n",
              "      <td>417.619995</td>\n",
              "      <td>418.239990</td>\n",
              "      <td>57451400</td>\n",
              "      <td>334.070007</td>\n",
              "      <td>334.809998</td>\n",
              "      <td>331.760010</td>\n",
              "      <td>332.970001</td>\n",
              "      <td>31280300</td>\n",
              "    </tr>\n",
              "    <tr>\n",
              "      <th>2021-05-26</th>\n",
              "      <td>418.869995</td>\n",
              "      <td>419.609985</td>\n",
              "      <td>417.760010</td>\n",
              "      <td>419.070007</td>\n",
              "      <td>43088600</td>\n",
              "      <td>333.660004</td>\n",
              "      <td>334.609985</td>\n",
              "      <td>332.950012</td>\n",
              "      <td>334.130005</td>\n",
              "      <td>25444900</td>\n",
              "    </tr>\n",
              "    <tr>\n",
              "      <th>2021-05-27</th>\n",
              "      <td>420.170013</td>\n",
              "      <td>420.720001</td>\n",
              "      <td>418.989990</td>\n",
              "      <td>419.290009</td>\n",
              "      <td>56707700</td>\n",
              "      <td>333.670013</td>\n",
              "      <td>334.540009</td>\n",
              "      <td>332.670013</td>\n",
              "      <td>332.880005</td>\n",
              "      <td>27931700</td>\n",
              "    </tr>\n",
              "  </tbody>\n",
              "</table>\n",
              "</div>"
            ],
            "text/plain": [
              "                   SPY              ...         QQQ          \n",
              "                  Open        High  ...       Close    Volume\n",
              "Date                                ...                      \n",
              "2021-05-21  416.869995  418.200012  ...  327.010010  50284700\n",
              "2021-05-24  417.339996  420.320007  ...  332.510010  32475800\n",
              "2021-05-25  420.329987  420.709991  ...  332.970001  31280300\n",
              "2021-05-26  418.869995  419.609985  ...  334.130005  25444900\n",
              "2021-05-27  420.170013  420.720001  ...  332.880005  27931700\n",
              "\n",
              "[5 rows x 10 columns]"
            ]
          },
          "metadata": {
            "tags": []
          },
          "execution_count": 7
        }
      ]
    },
    {
      "cell_type": "markdown",
      "metadata": {
        "id": "G-51Z-EVjT7x"
      },
      "source": [
        "# Filtering"
      ]
    },
    {
      "cell_type": "code",
      "metadata": {
        "id": "NDxQ99RzD2mA"
      },
      "source": [
        "###\n",
        "# These two parameters define the interest area (call and put)\n",
        "# E.g., call_interest_thres = 0.1 defines that call interest zone is an area that the current\n",
        "# price is higher than any support within 10%\n",
        "# E.g., put_interest_thres = 0.9 defines that put interest zone is an area that the current\n",
        "# price is lower than any compression within 10%\n",
        "###\n",
        "call_interest_thres, put_interest_thres = 0.3, 0.7"
      ],
      "execution_count": 8,
      "outputs": []
    },
    {
      "cell_type": "code",
      "metadata": {
        "id": "pZ0t6H1VjWaj"
      },
      "source": [
        "call_direction, put_direction = [], []\n",
        "for index in range(basic_stocks.shape[0]):\n",
        "    # get basic info of a specific ticker\n",
        "    row = basic_stocks.iloc[index]\n",
        "    # calculate reference point's price\n",
        "        # index important dates\n",
        "    BP_1_loc, BP_2_loc, TD_loc = dates.index(row['BP_1_date']), dates.index(row['BP_2_date']), history_daily.shape[0]+1\n",
        "        # determine which price to use for base points (High or Low)\n",
        "    if history_daily.iloc[BP_2_loc][(row['Ticker'], 'Close')] >= history_daily.iloc[BP_1_loc][(row['Ticker'], 'Close')]:\n",
        "        BP_price = 'Low'\n",
        "    else:\n",
        "        BP_price = 'High'     \n",
        "        # calculate price diff bt two base points        \n",
        "    BP_price_diff = (history_daily.iloc[BP_2_loc][(row['Ticker'], BP_price)] - history_daily.iloc[BP_1_loc][(row['Ticker'], BP_price)])   \n",
        "        # calculate price diff bt reference point and the second base point (simple math)\n",
        "    RF_price_diff = (TD_loc - BP_1_loc) / (BP_2_loc - BP_1_loc) * BP_price_diff\n",
        "        # finalize the price of reference point\n",
        "    RF_price = history_daily.iloc[BP_1_loc][(row['Ticker'], BP_price)] + RF_price_diff\n",
        "    # get current price of the target ticker\n",
        "    ticker = yf.Ticker(row['Ticker'])\n",
        "    price = ticker.history(period='1d', interval='1d').to_numpy()[0,3]\n",
        "    # calculate the ratio for final determination\n",
        "    ratio = (abs(price - RF_price) / row['Vertical_Dis_Per_Channel']) - (abs(price - RF_price) // row['Vertical_Dis_Per_Channel'])\n",
        "    ###\n",
        "    # assign the ticker to corresponding group based on the following rules\n",
        "    # (0,call_interest_thres]  --> current price is above a support, [put_interest_thres,1) --> current price is under a pressure)\n",
        "    ###\n",
        "    if ratio <= call_interest_thres:\n",
        "        call_direction.append(row['Ticker'])\n",
        "    elif ratio >= put_interest_thres:\n",
        "        put_direction.append(row['Ticker'])\n",
        "    else:\n",
        "        pass"
      ],
      "execution_count": 10,
      "outputs": []
    },
    {
      "cell_type": "code",
      "metadata": {
        "colab": {
          "base_uri": "https://localhost:8080/"
        },
        "id": "wixhJIopABHh",
        "outputId": "1221527a-5d37-49a3-fc2a-0a7df1a98d39"
      },
      "source": [
        "print('The CALL direction Tickers are:')\n",
        "print(call_direction)\n",
        "print('The PUT direction Tickers are:')\n",
        "print(put_direction)"
      ],
      "execution_count": 11,
      "outputs": [
        {
          "output_type": "stream",
          "text": [
            "The CALL direction Tickers are:\n",
            "['SPY']\n",
            "The PUT direction Tickers are:\n",
            "[]\n"
          ],
          "name": "stdout"
        }
      ]
    },
    {
      "cell_type": "code",
      "metadata": {
        "id": "r-MULnjUXkRD"
      },
      "source": [
        ""
      ],
      "execution_count": 11,
      "outputs": []
    }
  ]
}